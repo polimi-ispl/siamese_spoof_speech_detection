{
 "cells": [
  {
   "cell_type": "code",
   "execution_count": 2,
   "metadata": {},
   "outputs": [],
   "source": [
    "import pandas as pd\n",
    "import numpy as np\n",
    "import os\n",
    "import soundfile as sf\n",
    "import matplotlib.pyplot as plt\n",
    "import logmelspectr_params as params\n",
    "from tqdm import tqdm\n",
    "import itertools"
   ]
  },
  {
   "cell_type": "code",
   "execution_count": null,
   "metadata": {},
   "outputs": [],
   "source": [
    "def frame(data, window_length, hop_length):\n",
    "    \"\"\"Convert array into a sequence of successive possibly overlapping frames.\n",
    "    An n-dimensional array of shape (num_samples, ...) is converted into an\n",
    "    (n+1)-D array of shape (num_frames, window_length, ...), where each frame\n",
    "    starts hop_length points after the preceding one.\n",
    "    This is accomplished using stride_tricks, so the original data is not\n",
    "    copied.  However, there is no zero-padding, so any incomplete frames at the\n",
    "    end are not included.\n",
    "    Args:\n",
    "    data: np.array of dimension N >= 1.\n",
    "    window_length: Number of samples in each frame.\n",
    "    hop_length: Advance (in samples) between each window.\n",
    "    Returns:\n",
    "    (N+1)-D np.array with as many rows as there are complete frames that can be\n",
    "    extracted.\n",
    "    \"\"\"\n",
    "    num_samples = data.shape[0]\n",
    "    num_frames = 1 + int(np.floor((num_samples - window_length) / hop_length))\n",
    "    shape = (num_frames, window_length) + data.shape[1:]\n",
    "    strides = (data.strides[0] * hop_length,) + data.strides\n",
    "    return np.lib.stride_tricks.as_strided(data, shape=shape, strides=strides)"
   ]
  },
  {
   "cell_type": "code",
   "execution_count": null,
   "metadata": {},
   "outputs": [],
   "source": [
    "train_txt_path = \"/nas/public/dataset/asvspoof2019/LA/ASVspoof2019_LA_cm_protocols/ASVspoof2019.LA.cm.train.trn.txt\"\n",
    "dev_txt_path = \"/nas/public/dataset/asvspoof2019/LA/ASVspoof2019_LA_cm_protocols/ASVspoof2019.LA.cm.dev.trl.txt\"\n",
    "eval_txt_path = \"/nas/public/dataset/asvspoof2019/LA/ASVspoof2019_LA_cm_protocols/ASVspoof2019.LA.cm.eval.trl.txt\"\n"
   ]
  },
  {
   "cell_type": "code",
   "execution_count": null,
   "metadata": {},
   "outputs": [],
   "source": [
    "train_feat_root = \"/nas/home/cborrelli/tripletloss_bot/features/logmelspectr/train\"\n",
    "dev_feat_root = \"/nas/home/cborrelli/tripletloss_bot/features/logmelspectr/dev\"\n",
    "eval_feat_root = \"/nas/home/cborrelli/tripletloss_bot/features/logmelspectr/eval\""
   ]
  },
  {
   "cell_type": "code",
   "execution_count": null,
   "metadata": {},
   "outputs": [],
   "source": [
    "df_train = pd.read_csv(train_txt_path, sep=\" \", header=None)\n",
    "df_train.columns = [\"speaker_id\", \"audio_filename\", \"null\", \"system_id\", \"label\"]\n",
    "df_train = df_train.drop(columns=\"null\")\n",
    "\n",
    "df_dev = pd.read_csv(dev_txt_path, sep=\" \", header=None)\n",
    "df_dev.columns = [\"speaker_id\", \"audio_filename\", \"null\", \"system_id\", \"label\"]\n",
    "df_dev = df_dev.drop(columns=\"null\")\n",
    "\n",
    "df_eval = pd.read_csv(eval_txt_path, sep=\" \", header=None)\n",
    "df_eval.columns = [\"speaker_id\", \"audio_filename\", \"null\", \"system_id\", \"label\"]\n",
    "df_eval = df_eval.drop(columns=\"null\")"
   ]
  },
  {
   "cell_type": "code",
   "execution_count": null,
   "metadata": {},
   "outputs": [],
   "source": [
    "features_sample_rate = 1.0 / params.STFT_HOP_LENGTH_SECONDS\n",
    "example_window_length = int(round(\n",
    "      params.EXAMPLE_WINDOW_SECONDS * features_sample_rate))\n",
    "example_hop_length = int(round(\n",
    "      params.EXAMPLE_HOP_SECONDS * features_sample_rate))"
   ]
  },
  {
   "cell_type": "code",
   "execution_count": null,
   "metadata": {},
   "outputs": [],
   "source": [
    "count = 0\n",
    "for index, row in tqdm(df_train.iterrows(), total=len(df_train)):\n",
    "    audio_filename = row['audio_filename']\n",
    "    log_mel = np.load(os.path.join(train_feat_root, audio_filename + '.npy'))\n",
    "    log_mel = log_mel.transpose()\n",
    "    log_mel_examples = frame(log_mel, window_length=example_window_length, hop_length=example_hop_length)\n",
    "    number_of_frames = log_mel_examples.shape[0]\n",
    "    if number_of_frames==0:\n",
    "        count +=1\n",
    "\n",
    "    "
   ]
  },
  {
   "cell_type": "code",
   "execution_count": null,
   "metadata": {},
   "outputs": [],
   "source": []
  },
  {
   "cell_type": "code",
   "execution_count": null,
   "metadata": {},
   "outputs": [],
   "source": []
  },
  {
   "cell_type": "code",
   "execution_count": null,
   "metadata": {},
   "outputs": [],
   "source": []
  },
  {
   "cell_type": "code",
   "execution_count": null,
   "metadata": {},
   "outputs": [],
   "source": [
    "alg_classes = ['-','A01', 'A02', 'A03', 'A04', 'A05', 'A06']\n",
    "num_combinations = 500\n",
    "positive_data = {}\n",
    "\n",
    "for alg in alg_classes:\n",
    "    alg_samples_set1 = df_train.audio_filename[df_train['system_id']==alg].sample(random_state=2, \n",
    "                                                                                  n=num_combinations)\n",
    "    \n",
    "    alg_samples_set2 = df_train.audio_filename[(df_train['system_id']==alg)& \n",
    "                                               ~df_train['system_id'].isin(list(alg_samples_set1))\n",
    "                                              ].sample(random_state=2, n=num_combinations)\n",
    "\n",
    "    positive_data_pairs = list(itertools.product(alg_samples_set1, alg_samples_set2))\n",
    "    positive_data[alg+'_'+alg] = positive_data_pairs\n",
    "\n",
    "    \n",
    "negative_data = {}\n",
    "for alg_1 in tqdm(alg_classes, total=len(alg_classes)):\n",
    "    for alg_2 in alg_classes:\n",
    "        \n",
    "        if alg_2 +'_' +alg_1 in negative_data.keys():\n",
    "            continue\n",
    "        if alg_1 == alg_2:\n",
    "            continue\n",
    "        alg_1_samples = df_train.audio_filename[df_train['system_id'] == alg_1].sample(random_state=2, \n",
    "                                                                                       n=num_combinations)\n",
    "        alg_2_samples = df_train.audio_filename[df_train['system_id'] == alg_2].sample(random_state=2,\n",
    "                                                                                      n=num_combinations)\n",
    "        negative_data_pairs = list(itertools.product(alg_1_samples, alg_2_samples))\n",
    "        negative_data[alg_1+'_'+alg_2] = negative_data_pairs"
   ]
  },
  {
   "cell_type": "code",
   "execution_count": null,
   "metadata": {},
   "outputs": [],
   "source": []
  },
  {
   "cell_type": "code",
   "execution_count": null,
   "metadata": {},
   "outputs": [],
   "source": []
  },
  {
   "cell_type": "code",
   "execution_count": 5,
   "metadata": {},
   "outputs": [],
   "source": [
    "classes_list = ['-','A01', 'A02', 'A03', 'A04', 'A05', 'A06']\n"
   ]
  },
  {
   "cell_type": "code",
   "execution_count": null,
   "metadata": {},
   "outputs": [],
   "source": []
  },
  {
   "cell_type": "code",
   "execution_count": null,
   "metadata": {},
   "outputs": [],
   "source": [
    "classes_list=['-', 'A01', 'A02', 'A03', 'A04', 'A05', 'A06']"
   ]
  },
  {
   "cell_type": "code",
   "execution_count": null,
   "metadata": {},
   "outputs": [],
   "source": [
    "def getitem(batch_index, train_feat_root, dataframe,  dim, n_channels, batch_size = 50):\n",
    "    'Generate one batch of data'        \n",
    "\n",
    "    feature_path = train_feat_root\n",
    "    negative_couples_classes = np.array(list(itertools.combinations(classes_list, r=2)))\n",
    "    positive_couples_classes = np.array(list(zip(classes_list, classes_list)))\n",
    "    \n",
    "    negative_selected_pairs = negative_couples_classes[np.random.choice(negative_couples_classes.shape[0], \n",
    "                                                        batch_size // 2, replace=True), :]\n",
    "    positive_selected_pairs = positive_couples_classes[np.random.choice(positive_couples_classes.shape[0], \n",
    "                                                        batch_size // 2, replace=True), :]\n",
    "    \n",
    "    selected_pairs = np.concatenate((positive_selected_pairs, negative_selected_pairs), axis=1)\n",
    "    \n",
    "    y = np.concatenate(np.zeros((batch_size//2)), np.ones((batch_size//2)), axis=0)\n",
    "\n",
    "\n",
    "    short_sample = False\n",
    "    \n",
    "    features_sample_rate = 1.0 / params.STFT_HOP_LENGTH_SECONDS\n",
    "\n",
    "    example_window_length = int(round(\n",
    "        params.EXAMPLE_WINDOW_SECONDS * features_sample_rate))\n",
    "    example_hop_length = int(round(\n",
    "        params.EXAMPLE_HOP_SECONDS * features_sample_rate))\n",
    "    \n",
    "    X = np.empty((batch_size, *dim, n_channels))\n",
    "    \n",
    "    sample_batch_index = 0\n",
    "\n",
    "    for pairs in selected_pairs:\n",
    "\n",
    "        sample = np.empty((*dim, n_channels))\n",
    "        \n",
    "        \n",
    "        for alg in pairs:\n",
    "            row = dataframe[dataframe.system_id == alg].sample(n=1)\n",
    "\n",
    "            log_mel = np.load(os.path.join(feature_path, row['audio_filename'] + '.npy'))\n",
    "            log_mel = log_mel.transpose()\n",
    "            \n",
    "            if log_mel.shape[0] < dim[0]:\n",
    "                pad_len = dim[0] - log_mel.shape[0]\n",
    "                log_mel = np.pad(log_mel, ((0, 0,), (0, pad_len)))\n",
    "                \n",
    "            log_mel = frame(log_mel, example_window_length, example_hop_length)\n",
    "\n",
    "            selected_frame = np.random.randint(low=0, high=log_mel.shape[0], size=1)   \n",
    "\n",
    "            selected_log_mel = log_mel[selected_frame, :, :]\n",
    "            selected_log_mel = selected_log_mel[:,:, np.newaxis]\n",
    "            sample = np.concatenate((sample, selected_log_mel), axis=0)\n",
    "                \n",
    "            \n",
    "                \n",
    "        sample = sample[np.newaxis, :, :, :]\n",
    "        X[sample_batch_index, :, :, :] = sample\n",
    "\n",
    "        print(X.shape)\n",
    "\n",
    "        if short_sample==True:\n",
    "            short_sample = False\n",
    "            continue\n",
    "        break\n",
    "        break\n",
    "            \n",
    "                    \n",
    "                    \n",
    "\n",
    "    for n in negative_couples_classes:\n",
    "        pass\n",
    "        \n",
    "    return\n",
    "    # Generate data\n",
    "\n",
    "    #X, y = self.__data_generation(pos_indexes, neg_indexes)\n",
    "\n",
    "    #return X, y\n"
   ]
  },
  {
   "cell_type": "code",
   "execution_count": null,
   "metadata": {},
   "outputs": [],
   "source": [
    "getitem(0, train_feat_root, df_train, dim=(96*2, 64), n_channels=1)"
   ]
  },
  {
   "cell_type": "code",
   "execution_count": null,
   "metadata": {},
   "outputs": [],
   "source": []
  },
  {
   "cell_type": "code",
   "execution_count": null,
   "metadata": {},
   "outputs": [],
   "source": [
    "b"
   ]
  },
  {
   "cell_type": "code",
   "execution_count": 12,
   "metadata": {},
   "outputs": [
    {
     "data": {
      "text/plain": [
       "array([[1., 1., 1.],\n",
       "       [1., 1., 1.],\n",
       "       [1., 1., 1.],\n",
       "       [1., 1., 1.],\n",
       "       [1., 1., 1.]])"
      ]
     },
     "execution_count": 12,
     "metadata": {},
     "output_type": "execute_result"
    }
   ],
   "source": [
    "a = np.ones((5, 3))\n",
    "a"
   ]
  },
  {
   "cell_type": "code",
   "execution_count": 13,
   "metadata": {},
   "outputs": [
    {
     "data": {
      "text/plain": [
       "array([[1., 1., 1., 0., 0., 0., 0., 0., 0., 0., 0., 0., 0.],\n",
       "       [1., 1., 1., 0., 0., 0., 0., 0., 0., 0., 0., 0., 0.],\n",
       "       [1., 1., 1., 0., 0., 0., 0., 0., 0., 0., 0., 0., 0.],\n",
       "       [1., 1., 1., 0., 0., 0., 0., 0., 0., 0., 0., 0., 0.],\n",
       "       [1., 1., 1., 0., 0., 0., 0., 0., 0., 0., 0., 0., 0.]])"
      ]
     },
     "execution_count": 13,
     "metadata": {},
     "output_type": "execute_result"
    }
   ],
   "source": [
    "pad_len = 10\n",
    "np.pad(a, ((0, 0,), (0, pad_len)))"
   ]
  },
  {
   "cell_type": "code",
   "execution_count": null,
   "metadata": {},
   "outputs": [],
   "source": []
  }
 ],
 "metadata": {
  "kernelspec": {
   "display_name": "Python 3",
   "language": "python",
   "name": "python3"
  },
  "language_info": {
   "codemirror_mode": {
    "name": "ipython",
    "version": 3
   },
   "file_extension": ".py",
   "mimetype": "text/x-python",
   "name": "python",
   "nbconvert_exporter": "python",
   "pygments_lexer": "ipython3",
   "version": "3.7.3"
  }
 },
 "nbformat": 4,
 "nbformat_minor": 4
}
